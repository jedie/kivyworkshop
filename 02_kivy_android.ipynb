{
 "cells": [
  {
   "cell_type": "markdown",
   "metadata": {},
   "source": [
    "# Buildozer\n",
    "\n",
    "Buildozer es una [herramienta del proyecto Kivy](https://github.com/kivy/buildozer) para crear paquetes para Android y iOS facilmente.\n",
    "\n",
    "Utiliza un archivo `buildozer.spec` dónde se definen algunos prámetros de configuración como:\n",
    "* requerimentos \n",
    "* titulo\n",
    "* icon\n",
    "* modulos incluidos (de PyPi y de Garden)\n",
    "\n",
    "Buildozer crea estos archivos por nosotros."
   ]
  },
  {
   "cell_type": "markdown",
   "metadata": {},
   "source": [
    "# Instalación"
   ]
  },
  {
   "cell_type": "markdown",
   "metadata": {},
   "source": [
    "# Recomendaciones\n",
    "\n",
    "Buildozer facilita enormemente la tarea de crear aplicaciones para android, descargando los SDKs y compilando, pero genera una cantidad importante de archivos temporales, que si bien aceleran la compilación, pueden ocupar bastante si se tienen múltiples proyectos. Un paleativo puede ser quitar la carpeta **`.buildozer`** en los proyectos que no estemos trabajando en el momento."
   ]
  },
  {
   "cell_type": "markdown",
   "metadata": {},
   "source": [
    "# APIs Nativas de Android"
   ]
  },
  {
   "cell_type": "code",
   "execution_count": null,
   "metadata": {
    "collapsed": true
   },
   "outputs": [],
   "source": []
  }
 ],
 "metadata": {
  "kernelspec": {
   "display_name": "Python 2",
   "language": "python",
   "name": "python2"
  },
  "language_info": {
   "codemirror_mode": {
    "name": "ipython",
    "version": 2
   },
   "file_extension": ".py",
   "mimetype": "text/x-python",
   "name": "python",
   "nbconvert_exporter": "python",
   "pygments_lexer": "ipython2",
   "version": "2.7.12"
  }
 },
 "nbformat": 4,
 "nbformat_minor": 1
}
