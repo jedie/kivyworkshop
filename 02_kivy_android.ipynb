{
 "cells": [
  {
   "cell_type": "markdown",
   "metadata": {},
   "source": [
    "# Kivy Runner\n",
    "\n",
    "Es una aplicaicón diseñada para ejecutar nuestros scripts de python sin tener que generar el APK (paquete para Android).\n",
    "\n",
    "Debemos copiar nuestro script a la carpeta `/storage/sdcard0/kivy` \n",
    "\n",
    "De no ubicarse en este directorio, utilzando ADB es posible ubicarlo con `adb shell` con el comando `busybox find / -iname \"kivy\" 2>/dev/null`.\n",
    "\n",
    "\n",
    "Para que nuestra aplicación pueda ejecutarse, debemos utilzar agregar el siguiente archivo para que Kivy Runner pueda utilizarlo:\n",
    "\n",
    "### `android.txt`\n"
   ]
  },
  {
   "cell_type": "code",
   "execution_count": 3,
   "metadata": {
    "collapsed": true
   },
   "outputs": [],
   "source": [
    "author = \"PyCon Crew\"\n",
    "version = 1.0\n",
    "orientation = 'vertical'"
   ]
  },
  {
   "cell_type": "markdown",
   "metadata": {},
   "source": [
    "# Ejercicio\n",
    "\n",
    "Utilizar la máquina virtual o nuestra propia máquina para mover un main.py, un android.txt en una carpeta de Kivy Runner. "
   ]
  },
  {
   "cell_type": "markdown",
   "metadata": {},
   "source": [
    "# Compartiendo Carpetas \n",
    "\n",
    "![](images/shared.png)\n",
    "\n",
    "\n",
    "\n",
    "![](images/usb.png)"
   ]
  },
  {
   "cell_type": "markdown",
   "metadata": {},
   "source": [
    "# Buildozer\n",
    "\n",
    "Buildozer es una [herramienta del proyecto Kivy](https://github.com/kivy/buildozer) para crear paquetes para Android y iOS facilmente.\n",
    "\n",
    "Utiliza un archivo `buildozer.spec` dónde se definen algunos prámetros de configuración como:\n",
    "* requerimentos \n",
    "* titulo\n",
    "* icon\n",
    "* modulos incluidos (de PyPi y de Garden)\n",
    "\n",
    "Buildozer crea estos archivos por nosotros."
   ]
  },
  {
   "cell_type": "markdown",
   "metadata": {},
   "source": [
    "# Instalación\n",
    "\n",
    "```python\n",
    "sudo pip install -U buildozer\n",
    "```\n",
    "\n",
    "# Creación de `buildozer.spec`\n",
    "```bash\n",
    "buildozer init \n",
    "```\n",
    "\n",
    "# Configuración de `buildozer.spec`\n",
    "## Algunas configuracione a tener en cuenta\n",
    "```ini\n",
    "# (list) Permissions\n",
    "android.permissions = INTERNET,ACCESS_FINE_LOCATION,ACCESS_COARSE_LOCATION\n",
    "\n",
    "# (int) Android API to use\n",
    "#android.api = 14\n",
    "\n",
    "# (int) Minimum API required (8 = Android 2.2 devices)\n",
    "#android.minapi = 8\n",
    "\n",
    "# (int) Android SDK version to use\n",
    "#android.sdk = 21\n",
    "\n",
    "# (str) Android NDK version to use\n",
    "#android.ndk = 9\n",
    "\n",
    "# (bool) Use --private data storage (True) or --dir public storage (False)\n",
    "#android.private_storage = True\n",
    "\n",
    "# (str) Android NDK directory (if empty, it will be automatically downloaded.)\n",
    "#android.ndk_path =\n",
    "\n",
    "# (str) Android SDK directory (if empty, it will be automatically downloaded.)\n",
    "android.sdk_path = \n",
    "\n",
    "# (str) Android entry point, default is ok for Kivy-based app\n",
    "#android.entrypoint = org.renpy.android.PythonActivity\n",
    "\n",
    "# (list) List of Java .jar files to add to the libs so that pyjnius can access\n",
    "# their classes. Don't add jars that you do not need, since extra jars can slow\n",
    "# down the build process. Allows wildcards matching, for example:\n",
    "# OUYA-ODK/libs/*.jar\n",
    "#android.add_jars = foo.jar,bar.jar,path/to/more/*.jar\n",
    "\n",
    "# (list) List of Java files to add to the android project (can be java or a\n",
    "# directory containing the files)\n",
    "#android.add_src =\n",
    "\n",
    "# (str) XML file to include as an intent filters in <activity> tag\n",
    "#android.manifest.intent_filters =\n",
    "\n",
    "# (list) Android additionnal libraries to copy into libs/armeabi\n",
    "#android.add_libs_armeabi = libs/android/*.so\n",
    "\n",
    "# (bool) Indicate whether the screen should stay on\n",
    "# Don't forget to add the WAKE_LOCK permission if you set this to True\n",
    "#android.wakelock = False\n",
    "\n",
    "# (list) Android application meta-data to set (key=value format)\n",
    "#android.meta_data =\n",
    "\n",
    "# (list) Android library project to add (will be added in the\n",
    "# project.properties automatically.)\n",
    "#android.library_references =\n",
    "```"
   ]
  },
  {
   "cell_type": "markdown",
   "metadata": {},
   "source": [
    "# Compilación de la Aplicación para Android\n",
    "```bash\n",
    "$ buildozer android_new debug\n",
    "# Ensure build layout\n",
    "# Check configuration tokens\n",
    "# Preparing build\n",
    "# Check requirements for android\n",
    "# Install platform\n",
    "# Apache ANT found at /Users/nahuel/.buildozer/android/platform/apache-ant-1.9.4\n",
    "# Android SDK found at /usr/local/Cellar/android-sdk/24.4.1_1\n",
    "# Android NDK found at /Users/nahuel/.buildozer/android/platform/android-ndk-r9c\n",
    "# Check application requirements\n",
    "# Check garden requirements\n",
    "# Compile platform\n",
    "# Build the application #2\n",
    "# Package the application\n",
    "# APK MyApplication-0.1-debug.apk available in the bin directory\n",
    "```\n",
    "\n",
    "Esto puede tartar un tiempo la primera vez y la carpeta oculta de Buildozer, puede llegar a ocuar **1.1GB**.\n",
    "\n",
    "![](images/meme_kivy.jpg)"
   ]
  },
  {
   "cell_type": "markdown",
   "metadata": {},
   "source": [
    "# Android Debug Bridge\n",
    "\n",
    "`adb` es una utilidad de línea de comandos que sirve para:\n",
    "* Ver los mensajes (logs) de Android (`adb logcat`)\n",
    "* Crear una shell en el \n",
    "\n",
    "* adb push <local>... <remote> Enviar un archivo/directorio al dispositivo\n",
    "* adb pull <remote>... <local> Traer ar\n",
    "                               - copy files/dirs from device\n",
    "                                 (-a preserves file timestamp and mode)\n",
    "  adb sync [ <directory> ]     - copy host->device only if changed\n",
    "                                 (-l means list but don't copy)\n",
    "  adb shell [-e escape] [-n] [-Tt] [-x] [command]\n",
    "                               - run remote shell command (interactive shell if no command given)\n",
    "                                 (-e: choose escape character, or \"none\"; default '~')\n",
    "                                 (-n: don't read from stdin)\n",
    "                                 (-T: disable PTY allocation)\n",
    "                                 (-t: force PTY allocation)\n",
    "                                 (-x: disable remote exit codes and stdout/stderr separation)\n",
    "  adb emu <command>            - run emulator console command\n",
    "  adb logcat [ <filter-spec> ] - View device log\n",
    "  adb forward --list           - list all forward socket connections.\n",
    "                                 the format is a list of lines with the following format:\n",
    "                                    <serial> \" \" <local> \" \" <remote> \"\\n\""
   ]
  },
  {
   "cell_type": "markdown",
   "metadata": {},
   "source": [
    "# Utilización\n",
    "\n",
    "```bash\n",
    "adb logcat | grep python\n",
    "```"
   ]
  },
  {
   "cell_type": "markdown",
   "metadata": {},
   "source": [
    "# Recomendaciones\n",
    "\n",
    "Buildozer facilita enormemente la tarea de crear aplicaciones para android, descargando los SDKs y compilando, pero genera una cantidad importante de archivos temporales, que si bien aceleran la compilación, pueden ocupar bastante si se tienen múltiples proyectos. Un paleativo puede ser quitar la carpeta **`.buildozer`** en los proyectos que no estemos trabajando en el momento."
   ]
  },
  {
   "cell_type": "markdown",
   "metadata": {},
   "source": [
    "# APIs Nativas de Android\n",
    "\n",
    "## Plyer\n",
    "\n",
    "Plyer ofrece de forma Pythónica [muchas APIS](https://github.com/kivy/plyer/tree/master/examples) que se pueden usar sin necesidad de Java:\n",
    "```python\n",
    "from kivy.lang import Builder\n",
    "from plyer import gps\n",
    "from kivy.app import App\n",
    "from kivy.properties import StringProperty\n",
    "from kivy.clock import Clock, mainthread\n",
    "\n",
    "kv = '''\n",
    "BoxLayout:\n",
    "    orientation: 'vertical'\n",
    "\n",
    "    Label:\n",
    "        text: app.gps_location\n",
    "\n",
    "    Label:\n",
    "        text: app.gps_status\n",
    "\n",
    "    BoxLayout:\n",
    "        size_hint_y: None\n",
    "        height: '48dp'\n",
    "        padding: '4dp'\n",
    "\n",
    "        ToggleButton:\n",
    "            text: 'Start' if self.state == 'normal' else 'Stop'\n",
    "            on_state:\n",
    "                app.start(1000, 0) if self.state == 'down' else \\\n",
    "                app.stop()\n",
    "'''\n",
    "\n",
    "\n",
    "class GpsTest(App):\n",
    "\n",
    "    gps_location = StringProperty()\n",
    "    gps_status = StringProperty('Click Start to get GPS location updates')\n",
    "\n",
    "    def build(self):\n",
    "        try:\n",
    "            gps.configure(on_location=self.on_location,\n",
    "                          on_status=self.on_status)\n",
    "        except NotImplementedError:\n",
    "            import traceback\n",
    "            traceback.print_exc()\n",
    "            self.gps_status = 'GPS is not implemented for your platform'\n",
    "\n",
    "        return Builder.load_string(kv)\n",
    "\n",
    "    def start(self, minTime, minDistance):\n",
    "        gps.start(minTime, minDistance)\n",
    "\n",
    "    def stop(self):\n",
    "        gps.stop()\n",
    "\n",
    "    @mainthread\n",
    "    def on_location(self, **kwargs):\n",
    "        self.gps_location = '\\n'.join([\n",
    "            '{}={}'.format(k, v) for k, v in kwargs.items()])\n",
    "\n",
    "    @mainthread\n",
    "    def on_status(self, stype, status):\n",
    "        self.gps_status = 'type={}\\n{}'.format(stype, status)\n",
    "\n",
    "    def on_pause(self):\n",
    "        gps.stop()\n",
    "        return True\n",
    "\n",
    "    def on_resume(self):\n",
    "        gps.start(1000, 0)\n",
    "        pass\n",
    "\n",
    "if __name__ == '__main__':\n",
    "    GpsTest().run()\n",
    "```"
   ]
  },
  {
   "cell_type": "markdown",
   "metadata": {
    "collapsed": true
   },
   "source": [
    "# on_pause, on_resume\n",
    "\n",
    "Esots métodos definen como almacenar el estado de la aplicación. Cada vez que nuestra aplicación pierde foco, se destruye y es necesario restablecerla en el estado anterior."
   ]
  },
  {
   "cell_type": "markdown",
   "metadata": {},
   "source": [
    "## Ejercicio\n",
    "Agregar a nuestra aplicación los métodos on_pause y on_resume, persistir el estado en un archivo utiliando `kivy.storage.jsonstore.JsonStore`\n"
   ]
  },
  {
   "cell_type": "code",
   "execution_count": null,
   "metadata": {
    "collapsed": true
   },
   "outputs": [],
   "source": []
  }
 ],
 "metadata": {
  "kernelspec": {
   "display_name": "Python 2",
   "language": "python",
   "name": "python2"
  },
  "language_info": {
   "codemirror_mode": {
    "name": "ipython",
    "version": 2
   },
   "file_extension": ".py",
   "mimetype": "text/x-python",
   "name": "python",
   "nbconvert_exporter": "python",
   "pygments_lexer": "ipython2",
   "version": "2.7.12"
  }
 },
 "nbformat": 4,
 "nbformat_minor": 1
}
