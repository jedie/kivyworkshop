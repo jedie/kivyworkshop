{
 "cells": [
  {
   "cell_type": "markdown",
   "metadata": {},
   "source": [
    "# Kivy Workshop / Taller de Kivy\n",
    "### Objetivo: Construir nuestra primera aplicación para Android con Kivy"
   ]
  },
  {
   "cell_type": "markdown",
   "metadata": {},
   "source": [
    "# Antes de emepzar\n",
    "\n",
    "* Este material está hecho sobre Jupyter Notebook, se puede [descargar de Github](bit.ly/tallerkivy).\n",
    "* La mayoría de los ejemplos de este notebook están preparados como script ejecutables, de manera que al ejecutar "
   ]
  },
  {
   "cell_type": "code",
   "execution_count": 25,
   "metadata": {
    "collapsed": false
   },
   "outputs": [
    {
     "data": {
      "image/png": "[encoded data removed]",
      "text/plain": [
       "<IPython.core.display.Image object>"
      ]
     },
     "execution_count": 25,
     "metadata": {},
     "output_type": "execute_result"
    }
   ],
   "source": [
    "!qr \"http://bit.ly/tallerkivy\" > images/qr.png\n",
    "from IPython.display import Image\n",
    "Image('images/qr.png')"
   ]
  },
  {
   "cell_type": "markdown",
   "metadata": {},
   "source": [
    "# Kivy \n",
    "\n",
    "Kivy es una biblioteca Open source para desarrollo rápido de aplicaciones que hacen uso de interfases de usuarios inovadoras (NUI) como aplicaiones multi touch.\n",
    "<img src=\"./images/gs-introduction.png\">"
   ]
  },
  {
   "cell_type": "markdown",
   "metadata": {},
   "source": [
    "# Características\n",
    "* Acelerado por GPU\n",
    "* Lenguaje de definición de interfaces sencillo\n",
    "* Aplicaciones de escritorio (Kiosk) y móviles\n",
    "* No necesito el emulador de Android para prubeas simples, acelerando el tiempo de desarrollo (si utilizo características nativas, se puede prbar en el dispositivo)."
   ]
  },
  {
   "cell_type": "markdown",
   "metadata": {},
   "source": [
    "# Instalación\n",
    "\n",
    "# Windows\n",
    "`pip install kivy`\n",
    "# Linux\n",
    "`apt-get install python-kivy`\n",
    "\n",
    "# Versión de Desarrollo\n",
    "`git clone https://github.com/kivy/kivy` requiere paquetes extras:\n",
    "\n",
    "```\n",
    "sudo apt-get install -y \\\n",
    "    python-pip \\\n",
    "    build-essential \\\n",
    "    git \\\n",
    "    python \\\n",
    "    python-dev \\\n",
    "    ffmpeg \\\n",
    "    libsdl2-dev \\\n",
    "    libsdl2-image-dev \\\n",
    "    libsdl2-mixer-dev \\\n",
    "    libsdl2-ttf-dev \\\n",
    "    libportmidi-dev \\\n",
    "    libswscale-dev \\\n",
    "    libavformat-dev \\\n",
    "    libavcodec-dev \\\n",
    "    zlib1g-dev\n",
    "```\n",
    "\n",
    "# Máquina Virtual\n",
    "\n",
    "La máquina virtual no tiene aceleración 3D, así que solo la utilizaremos praa compilar.\n",
    "\n",
    "Compartiremos la carpeta"
   ]
  },
  {
   "cell_type": "markdown",
   "metadata": {},
   "source": [
    "# Arquitectura\n",
    "![Arquitectura de Kivy](images/architecture.png)"
   ]
  },
  {
   "cell_type": "markdown",
   "metadata": {},
   "source": [
    "# Antes de llegar a Android\n",
    "### Repasemos algunas caracerísticas de Kivy\n",
    "\n",
    "* Aplicación\n",
    "* Propiedades\n",
    "* Lenguaje de Kivy (Kv)\n",
    "\n",
    "### Al extraer los ejemplos\n",
    "\n",
    "* Debemos quitar los **cell magics**:\n",
    "    + `%%writefile`\n",
    "    + `%%script python...`"
   ]
  },
  {
   "cell_type": "markdown",
   "metadata": {},
   "source": [
    "# Documentación\n",
    "\n",
    "La documentación de Kivy es muy buena, abarcando APIs y guías de desarrollo. Existen algunas areas poco documentadas como iOS, pero siempre se agradecen contribuciones al proyecto.\n",
    "![docs](images/docs.png)\n",
    "\n",
    "Tenemos una copia en este repositorio en la carpeta docs."
   ]
  },
  {
   "cell_type": "markdown",
   "metadata": {},
   "source": [
    "# Primera aplicación Kivy\n",
    "#### Sin android todavía"
   ]
  },
  {
   "cell_type": "code",
   "execution_count": 4,
   "metadata": {
    "collapsed": false
   },
   "outputs": [
    {
     "name": "stdout",
     "output_type": "stream",
     "text": [
      "Clickeado\n",
      "Clickeado\n",
      "Clickeado\n",
      "Clickeado\n"
     ]
    },
    {
     "name": "stderr",
     "output_type": "stream",
     "text": [
      "[INFO              ] [Logger      ] Record log in /Users/nahuel/.kivy/logs/kivy_16-11-27_4.txt\n",
      "[INFO              ] [Kivy        ] v1.9.1\n",
      "[INFO              ] [Python      ] v2.7.12 (default, Oct 11 2016, 05:20:59) \n",
      "[GCC 4.2.1 Compatible Apple LLVM 8.0.0 (clang-800.0.38)]\n",
      "[INFO              ] [Factory     ] 179 symbols loaded\n",
      "[INFO              ] [Image       ] Providers: img_tex, img_imageio, img_dds, img_gif, img_sdl2, img_pil (img_ffpyplayer ignored)\n",
      "[INFO              ] [Text        ] Provider: sdl2\n",
      "[INFO              ] [OSC         ] using <multiprocessing> for socket\n",
      "[INFO              ] [Window      ] Provider: sdl2\n",
      "[INFO              ] [GL          ] OpenGL version <2.1 INTEL-10.20.23>\n",
      "[INFO              ] [GL          ] OpenGL vendor <Intel Inc.>\n",
      "[INFO              ] [GL          ] OpenGL renderer <Intel Iris OpenGL Engine>\n",
      "[INFO              ] [GL          ] OpenGL parsed version: 2, 1\n",
      "[INFO              ] [GL          ] Shading version <1.20>\n",
      "[INFO              ] [GL          ] Texture max size <16384>\n",
      "[INFO              ] [GL          ] Texture max units <16>\n",
      "[INFO              ] [Window      ] auto add sdl2 input provider\n",
      "[INFO              ] [Window      ] virtual keyboard not allowed, single mode, not docked\n",
      "[INFO              ] [Base        ] Start application main loop\n",
      "[INFO              ] [GL          ] NPOT texture support is available\n",
      "[INFO              ] [Base        ] Leaving application in progress...\n"
     ]
    }
   ],
   "source": [
    "%%python\n",
    "# encoding: utf-8\n",
    "from __future__ import print_function\n",
    "from kivy.app import App\n",
    "from kivy.uix.button import Button\n",
    "\n",
    "class MyApp(App):\n",
    "    def saludar(self, ui):\n",
    "        print(u\"Clickeado\")\n",
    "    def build(self):\n",
    "        btn = Button(\n",
    "            text=\"Con F1 verás algo más\\n\"\n",
    "            \"con Esc salis\", \n",
    "            on_press=self.saludar,\n",
    "        )\n",
    "        return btn\n",
    "if __name__ == \"__main__\":\n",
    "    MyApp().run()"
   ]
  },
  {
   "cell_type": "markdown",
   "metadata": {},
   "source": [
    "# Agregando Layouts"
   ]
  },
  {
   "cell_type": "code",
   "execution_count": 8,
   "metadata": {
    "collapsed": false
   },
   "outputs": [],
   "source": [
    "%%script python2 --err stderr\n",
    "# encoding: utf-8\n",
    "from __future__ import print_function\n",
    "from kivy.app import App\n",
    "from kivy.uix.boxlayout import BoxLayout\n",
    "from kivy.uix.button import Button\n",
    "from kivy.uix.label import Label\n",
    "\n",
    "class MyWidget(BoxLayout):\n",
    "    def __init__(self):\n",
    "        super(MyWidget, self).__init__()\n",
    "        callback = App.get_running_app().saludar\n",
    "        btn = Button(text=u\"alegría a tu\", \n",
    "                     on_press=callback\n",
    "                    )\n",
    "        self.add_widget(Label(text=\"Dale\"))\n",
    "        self.add_widget(btn)\n",
    "        self.add_widget(Label(text=\"cuerpo\"))\n",
    "        self.orientation = 'vertical'\n",
    "        \n",
    "class MyApp(App):\n",
    "    def saludar(self, ui):\n",
    "        print(\"Macarena\")\n",
    "    def build(self):\n",
    "        return MyWidget()\n",
    "if __name__ == \"__main__\":\n",
    "    MyApp().run()"
   ]
  },
  {
   "cell_type": "markdown",
   "metadata": {},
   "source": [
    "# Utilizando las propiedades"
   ]
  },
  {
   "cell_type": "code",
   "execution_count": 10,
   "metadata": {
    "collapsed": false
   },
   "outputs": [],
   "source": [
    "%%script python2 --err stderr\n",
    "from __future__ import print_function\n",
    "from kivy.app import App\n",
    "from kivy.uix.boxlayout import BoxLayout\n",
    "from kivy.uix.button import Button\n",
    "\n",
    "class MyWidget(BoxLayout):\n",
    "    def __init__(self):\n",
    "        super(MyWidget, self).__init__()\n",
    "        callback = App.get_running_app().saludar\n",
    "        btn1 = Button(text=\"%s\" % self.orientation, \n",
    "                     on_press=callback\n",
    "                    )\n",
    "        self.add_widget(btn1)\n",
    "        btn2 = Button(text=\"Cambiar propiedad orientation\", \n",
    "                      on_press=self.change_layout)\n",
    "        self.add_widget(btn2)\n",
    "    def change_layout(self, ui):\n",
    "        if self.orientation == 'horizontal':\n",
    "            self.orientation = 'vertical'\n",
    "        else:\n",
    "            self.orientation = 'horizontal'\n",
    "\n",
    "class MyApp(App):\n",
    "    def saludar(self, ui):\n",
    "        print(\"Hola Kivy\")\n",
    "    def build(self):\n",
    "        return MyWidget()\n",
    "if __name__ == \"__main__\":\n",
    "    MyApp().run()"
   ]
  },
  {
   "cell_type": "markdown",
   "metadata": {},
   "source": [
    "# Propiadades en Kivy"
   ]
  },
  {
   "cell_type": "markdown",
   "metadata": {},
   "source": [
    "Las propiedades son el mecanismo de hacer **programación reactiva** o implementar el patrón `Observer` en Kivy.\n",
    "\n",
    "Lo que en Python haríamos de la siguiente forma:\n",
    "```python\n",
    "class MyClass(object):\n",
    "    def __init__(self):\n",
    "        super(MyClass, self).__init__()\n",
    "        self.numeric_var = 1\n",
    "```\n",
    "en Kivy, se implementaría de esta manera:\n",
    "```python\n",
    "class MyClass(EventDispatcher):\n",
    "    numeric_var = NumericProperty(1)\n",
    "```\n",
    "\n",
    "Las propiedades que implementa Kivy son:\n",
    "\n",
    "* [NumericProperty](https://kivy.org/docs/api-kivy.properties.html#kivy.properties.NumericProperty)\n",
    "* [StringProperty](https://kivy.org/docs/api-kivy.properties.html#kivy.properties.StringProperty) \n",
    "* [ListProperty](https://kivy.org/docs/api-kivy.properties.html#kivy.properties.ListProperty)\n",
    "* [ObjectProperty](https://kivy.org/docs/api-kivy.properties.html#kivy.properties.ObjectProperty)\n",
    "* [BooleanProperty](https://kivy.org/docs/api-kivy.properties.html#kivy.properties.BooleanProperty)\n",
    "* [BoundedNumericProperty](https://kivy.org/docs/api-kivy.properties.html#kivy.properties.BoundedNumericProperty)\n",
    "* [OptionProperty](https://kivy.org/docs/api-kivy.properties.html#kivy.properties.OptionProperty)\n",
    "* [ReferenceListProperty](https://kivy.org/docs/api-kivy.properties.html#kivy.properties.ReferenceListProperty)\n",
    "* [AliasProperty](https://kivy.org/docs/api-kivy.properties.html#kivy.properties.AliasProperty)\n",
    "* [DictProperty](https://kivy.org/docs/api-kivy.properties.html#kivy.properties.DictProperty)"
   ]
  },
  {
   "cell_type": "markdown",
   "metadata": {},
   "source": [
    "# El lenguaje de Diesño `Kv`\n",
    "\n",
    "Kivy proveé un lenguaje de diseño preparado para hacer GUIs de manera **simple** y **escalable**. \n",
    "\n",
    "Simplifica la separación de la interfase de la implementación de la lógica, adhiriendose al principio de separación de responsabilidades.\n",
    "\n",
    "![](images/gs-lang.png)\n",
    "\n",
    "\n",
    "## Utilización del lenguaje \n",
    "\n",
    "Exiten varias formas de vincular un archivo `kv` a una aplicación o widget:\n",
    "\n",
    "* Utilizando el mismo nombre que la aplicación **`my.kv -> MyApp`**\n",
    "\n",
    "* Utilizando la clase **Builder**\n",
    "    + `Builder.load_file('ruta/a/archivo.kv')`\n",
    "    + `Builder.load_string(cadena)`\n",
    "\n",
    "## Reglas\n",
    "Existen dos tipos de reglas, las de elemento raíz **root** y las de **clase**: \n",
    "### root\n",
    "```yaml\n",
    "clase_root:\n",
    "```\n",
    "### clases\n",
    "```yaml\n",
    "<Clase>:\n",
    "```\n",
    "\n",
    "### Variables Globales provistas por Kivy\n",
    "\n",
    "* **`app`** referencia a la aplicación\n",
    "* **`root`** referencia al widget raíz\n",
    "* **`self`** referencia al widget actual\n",
    "\n",
    "## Gerarquía\n",
    "\n",
    "```yaml\n",
    "\n",
    "MyRootWidget:\n",
    "    BoxLayout:\n",
    "        Button:\n",
    "        Button:\n",
    "```\n",
    "es equivalente a:\n",
    "\n",
    "```python\n",
    "root = MyRootWidget()\n",
    "box = BoxLayout()\n",
    "box.add_widget(Button())\n",
    "box.add_widget(Button())\n",
    "root.add_widget(box)\n",
    "```\n",
    "\n",
    "## Argumentos\n",
    "La expresión `grid = GridLayout(cols=3)` se puede definir en kv de la siguiente manera:\n",
    "\n",
    "```yaml\n",
    "GridLayout:\n",
    "    cols: 3\n",
    "```"
   ]
  },
  {
   "cell_type": "code",
   "execution_count": 20,
   "metadata": {
    "collapsed": false
   },
   "outputs": [],
   "source": [
    "%%script python2 --err stderr\n",
    "from kivy.app import App\n",
    "from kivy.lang import Builder\n",
    "#from kivy.uix.gridlayout import GridLayout\n",
    "from kivy.uix.boxlayout import BoxLayout\n",
    "\n",
    "class MyGrid(BoxLayout):\n",
    "    pass\n",
    "\n",
    "Builder.load_string('''\n",
    "<MyGrid>:\n",
    "    size: root.size\n",
    "    pos: root.pos\n",
    "    # cols: 3\n",
    "    Button:\n",
    "        text: \":)\"\n",
    "        on_press: print(\"Me apretaste\")\n",
    "    TextInput:\n",
    "        text: \"Layout\"\n",
    "    Button:\n",
    "        text: \"en\"\n",
    "    Button:\n",
    "        text: \"kv\"\n",
    "    BoxLayout:\n",
    "        Button:\n",
    "            text: \"Anidado\"\n",
    "        Label:\n",
    "            text: \"anidado\"\n",
    "''')\n",
    "\n",
    "class MyApp(App):\n",
    "    def build(self):\n",
    "        return MyGrid()\n",
    "\n",
    "MyApp().run()\n"
   ]
  },
  {
   "cell_type": "code",
   "execution_count": 18,
   "metadata": {
    "collapsed": false
   },
   "outputs": [
    {
     "name": "stdout",
     "output_type": "stream",
     "text": [
      "[INFO              ] [Logger      ] Record log in /Users/nahuel/.kivy/logs/kivy_16-11-27_17.txt\n",
      "[INFO              ] [Kivy        ] v1.9.1\n",
      "[INFO              ] [Python      ] v2.7.12 (default, Oct 11 2016, 05:20:59) \n",
      "[GCC 4.2.1 Compatible Apple LLVM 8.0.0 (clang-800.0.38)]\n",
      "[INFO              ] [Factory     ] 179 symbols loaded\n",
      "[INFO              ] [Image       ] Providers: img_tex, img_imageio, img_dds, img_gif, img_sdl2, img_pil (img_ffpyplayer ignored)\n",
      " Traceback (most recent call last):\n",
      "   File \"<stdin>\", line 4, in <module>\n",
      " ImportError: cannot import name BoxLayout\n",
      "\n"
     ]
    }
   ],
   "source": [
    "print(stderr)"
   ]
  },
  {
   "cell_type": "markdown",
   "metadata": {},
   "source": [
    "### Argumentos Observables\n",
    "\n",
    "La expresión: \n",
    "\n",
    "```python\n",
    "grid = GridLayout(cols=len(self.data))\n",
    "self.bind(data=grid.setter('cols'))\n",
    "```\n",
    "\n",
    "puede escribirse en kv de la siguiente manera:\n",
    "\n",
    "```yaml\n",
    "GridLayout:\n",
    "    cols: len(root.data)\n",
    "```\n",
    "\n",
    "## Referencias\n",
    "\n",
    "Se pueden definir atributos ID para los widgets, estos son útiles para hacer referencias tanto en Python como en el lenguaje Kv.\n",
    "\n",
    "El siguiente ejemplo combina atributos observables y referencias por `id`.\n"
   ]
  },
  {
   "cell_type": "code",
   "execution_count": 24,
   "metadata": {
    "collapsed": true
   },
   "outputs": [],
   "source": [
    "%%script python2 --err stderr\n",
    "from kivy.app import App\n",
    "from kivy.lang import Builder\n",
    "from kivy.uix.boxlayout import BoxLayout\n",
    "\n",
    "class MyLaoyout(BoxLayout):\n",
    "    pass\n",
    "\n",
    "Builder.load_string('''\n",
    "<MyLaoyout>:\n",
    "    size: root.size\n",
    "    pos: root.pos\n",
    "    Slider:\n",
    "        min: 0\n",
    "        max: 10\n",
    "        id: my_slider\n",
    "\n",
    "    Label:\n",
    "        text: '%s' % my_slider.value\n",
    "    Button:\n",
    "        text: \"Solo si > .5\"\n",
    "        disabled: not my_slider.value > 5\n",
    "''')\n",
    "\n",
    "class MyApp(App):\n",
    "    def build(self):\n",
    "        return MyLaoyout()\n",
    "\n",
    "MyApp().run()\n"
   ]
  },
  {
   "cell_type": "markdown",
   "metadata": {},
   "source": [
    "## Manejo de eventos\n",
    "\n",
    "Podemos definir de la siguiente manera un *handler* ante un evento de click:\n",
    "```yaml\n",
    "Button:\n",
    "    text: \"Hola\"\n",
    "    on_press: app.metodo()\n",
    "```"
   ]
  },
  {
   "cell_type": "code",
   "execution_count": 43,
   "metadata": {
    "collapsed": false
   },
   "outputs": [],
   "source": [
    "%%script python2 --err stderr\n",
    "# encoding: utf-8\n",
    "from kivy.app import App\n",
    "from kivy.lang import Builder\n",
    "from kivy.uix.boxlayout import BoxLayout\n",
    "from kivy.uix.popup import Popup\n",
    "from kivy.uix.label import Label\n",
    "\n",
    "class MyLaoyout(BoxLayout):\n",
    "    pass\n",
    "\n",
    "Builder.load_string(u'''\n",
    "<MyLaoyout>:\n",
    "    size: root.size\n",
    "    pos: root.pos\n",
    "    Slider:\n",
    "        min: 0\n",
    "        max: 10\n",
    "        id: my_slider\n",
    "    Button:\n",
    "        text: 'El slider está %s' % my_slider.value\n",
    "        on_press: app.saludar(self)\n",
    "''')\n",
    "\n",
    "class MyApp(App):\n",
    "    def build(self):\n",
    "        return MyLaoyout()\n",
    "    \n",
    "    def saludar(self, ui=None):\n",
    "        print(ui)\n",
    "        popup = Popup(title='Test popup',\n",
    "            content=Label(text='Hello world'),\n",
    "            size_hint=(None, None), size=(400, 400))\n",
    "        popup.open()\n",
    "\n",
    "MyApp().run()"
   ]
  },
  {
   "cell_type": "code",
   "execution_count": 41,
   "metadata": {
    "collapsed": false
   },
   "outputs": [
    {
     "name": "stdout",
     "output_type": "stream",
     "text": [
      "[INFO              ] [Logger      ] Record log in /Users/nahuel/.kivy/logs/kivy_16-11-27_31.txt\n",
      "[INFO              ] [Kivy        ] v1.9.1\n",
      "[INFO              ] [Python      ] v2.7.12 (default, Oct 11 2016, 05:20:59) \n",
      "[GCC 4.2.1 Compatible Apple LLVM 8.0.0 (clang-800.0.38)]\n",
      "[INFO              ] [Factory     ] 179 symbols loaded\n",
      "[INFO              ] [Image       ] Providers: img_tex, img_imageio, img_dds, img_gif, img_sdl2, img_pil (img_ffpyplayer ignored)\n",
      "[INFO              ] [Text        ] Provider: sdl2\n",
      "[INFO              ] [OSC         ] using <multiprocessing> for socket\n",
      "[INFO              ] [Window      ] Provider: sdl2\n",
      "[INFO              ] [GL          ] OpenGL version <2.1 INTEL-10.20.23>\n",
      "[INFO              ] [GL          ] OpenGL vendor <Intel Inc.>\n",
      "[INFO              ] [GL          ] OpenGL renderer <Intel Iris OpenGL Engine>\n",
      "[INFO              ] [GL          ] OpenGL parsed version: 2, 1\n",
      "[INFO              ] [GL          ] Shading version <1.20>\n",
      "[INFO              ] [GL          ] Texture max size <16384>\n",
      "[INFO              ] [GL          ] Texture max units <16>\n",
      "[INFO              ] [Window      ] auto add sdl2 input provider\n",
      "[INFO              ] [Window      ] virtual keyboard not allowed, single mode, not docked\n",
      "[INFO              ] [Base        ] Start application main loop\n",
      "[INFO              ] [GL          ] NPOT texture support is available\n",
      "[INFO              ] [Base        ] Leaving application in progress...\n",
      "\n"
     ]
    }
   ],
   "source": [
    "print(stderr)"
   ]
  },
  {
   "cell_type": "markdown",
   "metadata": {},
   "source": [
    "# Control de dibujo en pantalla\n",
    "Kivy permite definir las operaciones de pintado de pantalla bajo la propiedad canvas, o el método canvas."
   ]
  },
  {
   "cell_type": "code",
   "execution_count": 44,
   "metadata": {
    "collapsed": true
   },
   "outputs": [],
   "source": [
    "%%script python2 --err stderr\n",
    "# encoding: utf-8\n",
    "from kivy.app import App\n",
    "from kivy.lang import Builder\n",
    "from kivy.uix.boxlayout import BoxLayout\n",
    "from kivy.uix.popup import Popup\n",
    "from kivy.uix.label import Label\n",
    "\n",
    "class MyLaoyout(BoxLayout):\n",
    "    def saludar(self, ui):\n",
    "        pass\n",
    "\n",
    "Builder.load_string('''\n",
    "<MyLaoyout>:\n",
    "    \n",
    "    canvas:\n",
    "        Color:\n",
    "            rgba: 0.3, 0.2, 0.5, 1\n",
    "        Rectangle:\n",
    "            size: self.size\n",
    "            pos: self.pos\n",
    "    Button:\n",
    "        canvas:\n",
    "            Rectangle:\n",
    "                size: self.size\n",
    "                pos: self.pos\n",
    "                source: \"images/icon.png\"\n",
    "        size_hint: .5, .5\n",
    "''')\n",
    "\n",
    "class AlucinApp(App):\n",
    "    def build(self):\n",
    "        return MyLaoyout()\n",
    "\n",
    "AlucinApp().run()"
   ]
  },
  {
   "cell_type": "markdown",
   "metadata": {},
   "source": [
    "# Dfeiniendo Sub-Clases en `kv`\n",
    "Kivy nos permite utilizar una sintaxis especial para generar sub-clases de los widgets.\n",
    "\n",
    "La sintaxis es `<NombreClase@ClaseBase>`, no es necesario definirlo antes.\n",
    "\n"
   ]
  },
  {
   "cell_type": "code",
   "execution_count": 51,
   "metadata": {
    "collapsed": false
   },
   "outputs": [],
   "source": [
    "%%script python2 --err stderr\n",
    "# encoding: utf-8\n",
    "from kivy.app import App\n",
    "from kivy.lang import Builder\n",
    "from kivy.uix.boxlayout import BoxLayout\n",
    "from kivy.uix.popup import Popup\n",
    "from kivy.uix.button import Button\n",
    "from kivy.uix.label import Label\n",
    "\n",
    "class MyLaoyout(BoxLayout):\n",
    "    def saludar(self, ui):\n",
    "        pass\n",
    "class MiBoton(Button):\n",
    "    def cuando_me_presionas(self):\n",
    "        popup = Popup(title='Test popup',\n",
    "            content=Label(text=self.texto),\n",
    "            size_hint=(None, None), size=(400, 400))\n",
    "        popup.open()\n",
    "        \n",
    "Builder.load_string('''\n",
    "<MyLaoyout>:   \n",
    "    canvas:\n",
    "        Color:\n",
    "            rgba: 0.3, 0.2, 0.5, 1\n",
    "        Rectangle:\n",
    "            size: self.size\n",
    "            pos: self.pos\n",
    "    MiBoton:\n",
    "        texto: \"Primer widget\"\n",
    "    MiBoton:\n",
    "        texto: \"Segundo Widget\"\n",
    "    \n",
    "<MiBoton@Button>:\n",
    "    canvas:\n",
    "        Rectangle:\n",
    "            size: self.size\n",
    "            pos: self.pos\n",
    "            source: \"images/icon.png\"\n",
    "    size_hint: .5, .2\n",
    "    on_press: self.cuando_me_presionas()\n",
    "''')\n",
    "\n",
    "class AlucinApp(App):\n",
    "    def build(self):\n",
    "        return MyLaoyout()\n",
    "\n",
    "AlucinApp().run()"
   ]
  },
  {
   "cell_type": "code",
   "execution_count": 50,
   "metadata": {
    "collapsed": false
   },
   "outputs": [
    {
     "name": "stdout",
     "output_type": "stream",
     "text": [
      "[INFO              ] [Logger      ] Record log in /Users/nahuel/.kivy/logs/kivy_16-11-27_39.txt\n",
      "[INFO              ] [Kivy        ] v1.9.1\n",
      "[INFO              ] [Python      ] v2.7.12 (default, Oct 11 2016, 05:20:59) \n",
      "[GCC 4.2.1 Compatible Apple LLVM 8.0.0 (clang-800.0.38)]\n",
      "[INFO              ] [Factory     ] 179 symbols loaded\n",
      "[INFO              ] [Image       ] Providers: img_tex, img_imageio, img_dds, img_gif, img_sdl2, img_pil (img_ffpyplayer ignored)\n",
      "[INFO              ] [Text        ] Provider: sdl2\n",
      " Traceback (most recent call last):\n",
      "   File \"<stdin>\", line 40, in <module>\n",
      "   File \"/usr/local/lib/python2.7/site-packages/kivy/lang.py\", line 1889, in load_string\n",
      "     parser = Parser(content=string, filename=fn)\n",
      "   File \"/usr/local/lib/python2.7/site-packages/kivy/lang.py\", line 1264, in __init__\n",
      "     self.parse(content)\n",
      "   File \"/usr/local/lib/python2.7/site-packages/kivy/lang.py\", line 1370, in parse\n",
      "     rule.precompile()\n",
      "   File \"/usr/local/lib/python2.7/site-packages/kivy/lang.py\", line 1133, in precompile\n",
      "     x.precompile()\n",
      "   File \"/usr/local/lib/python2.7/site-packages/kivy/lang.py\", line 1129, in precompile\n",
      "     x.precompile()\n",
      "   File \"/usr/local/lib/python2.7/site-packages/kivy/lang.py\", line 1051, in precompile\n",
      "     self.co_value = eval(value)\n",
      "   File \"<string>\", line 1\n",
      "     \"Segundo Widget\"]\n",
      "                     ^\n",
      " SyntaxError: unexpected EOF while parsing\n",
      "\n"
     ]
    }
   ],
   "source": [
    "print(stderr)"
   ]
  },
  {
   "cell_type": "markdown",
   "metadata": {},
   "source": [
    "# Utilizando propiedades en el `canvas:`"
   ]
  },
  {
   "cell_type": "code",
   "execution_count": 52,
   "metadata": {
    "collapsed": false
   },
   "outputs": [],
   "source": [
    "%%script python2 --err stderr\n",
    "# encoding: utf-8\n",
    "from kivy.app import App\n",
    "from kivy.lang import Builder\n",
    "from kivy.uix.boxlayout import BoxLayout\n",
    "from kivy.uix.popup import Popup\n",
    "from kivy.uix.label import Label\n",
    "import random, time\n",
    "\n",
    "class MyLaoyout(BoxLayout):\n",
    "    def saludar(self, ui):\n",
    "        pass\n",
    "\n",
    "Builder.load_string('''\n",
    "<MyLaoyout>:\n",
    "    r: 1\n",
    "    g: 1\n",
    "    b: 1\n",
    "    a: 1\n",
    "    canvas:\n",
    "        Color:\n",
    "            rgba: self.r, self.g, self.b, self.a\n",
    "        Rectangle:\n",
    "            size: self.size\n",
    "            pos: self.pos\n",
    "    Button:\n",
    "        canvas:\n",
    "            Rectangle:\n",
    "                size: self.size\n",
    "                pos: self.pos\n",
    "                source: \"images/icon.png\"\n",
    "        size_hint: .5, .5\n",
    "        on_press: app.sacudir_colores()        \n",
    "''')\n",
    "\n",
    "def aleatorio():\n",
    "    rand = random.randrange(1, 100)\n",
    "    return rand * 0.01\n",
    "\n",
    "class AlucinApp(App):\n",
    "    def build(self):\n",
    "        random.seed(time.time())\n",
    "        return MyLaoyout()\n",
    "    def sacudir_colores(self):\n",
    "        self.root.r = aleatorio()\n",
    "        self.root.g = aleatorio()\n",
    "        self.root.b = aleatorio()\n",
    "        self.root.a = aleatorio()\n",
    "        \n",
    "AlucinApp().run()"
   ]
  },
  {
   "cell_type": "code",
   "execution_count": 53,
   "metadata": {
    "collapsed": false
   },
   "outputs": [
    {
     "name": "stdout",
     "output_type": "stream",
     "text": [
      "[INFO              ] [Logger      ] Record log in /Users/nahuel/.kivy/logs/kivy_16-11-27_41.txt\n",
      "[INFO              ] [Kivy        ] v1.9.1\n",
      "[INFO              ] [Python      ] v2.7.12 (default, Oct 11 2016, 05:20:59) \n",
      "[GCC 4.2.1 Compatible Apple LLVM 8.0.0 (clang-800.0.38)]\n",
      "[INFO              ] [Factory     ] 179 symbols loaded\n",
      "[INFO              ] [Image       ] Providers: img_tex, img_imageio, img_dds, img_gif, img_sdl2, img_pil (img_ffpyplayer ignored)\n",
      "[INFO              ] [Text        ] Provider: sdl2\n",
      "[INFO              ] [OSC         ] using <multiprocessing> for socket\n",
      "[INFO              ] [Window      ] Provider: sdl2\n",
      "[INFO              ] [GL          ] OpenGL version <2.1 INTEL-10.20.23>\n",
      "[INFO              ] [GL          ] OpenGL vendor <Intel Inc.>\n",
      "[INFO              ] [GL          ] OpenGL renderer <Intel Iris OpenGL Engine>\n",
      "[INFO              ] [GL          ] OpenGL parsed version: 2, 1\n",
      "[INFO              ] [GL          ] Shading version <1.20>\n",
      "[INFO              ] [GL          ] Texture max size <16384>\n",
      "[INFO              ] [GL          ] Texture max units <16>\n",
      "[INFO              ] [Window      ] auto add sdl2 input provider\n",
      "[INFO              ] [Window      ] virtual keyboard not allowed, single mode, not docked\n",
      "[INFO              ] [Base        ] Start application main loop\n",
      "[INFO              ] [Base        ] Leaving application in progress...\n",
      "\n"
     ]
    }
   ],
   "source": [
    "print(stderr)"
   ]
  },
  {
   "cell_type": "markdown",
   "metadata": {},
   "source": [
    "## Combinando..."
   ]
  },
  {
   "cell_type": "code",
   "execution_count": 84,
   "metadata": {
    "collapsed": false
   },
   "outputs": [],
   "source": [
    "%%script python2 --err stderr\n",
    "# encoding: utf-8\n",
    "from kivy.app import App\n",
    "from kivy.lang import Builder\n",
    "from kivy.uix.boxlayout import BoxLayout\n",
    "from kivy.uix.popup import Popup\n",
    "from kivy.uix.label import Label\n",
    "import random, time\n",
    "\n",
    "class MyLaoyout(BoxLayout):\n",
    "    def saludar(self, ui):\n",
    "        pass\n",
    "\n",
    "Builder.load_string('''\n",
    "<MyLaoyout>:\n",
    "    \n",
    "    orientation: 'vertical'\n",
    "    Label:\n",
    "        text: \"Rojo\"\n",
    "    Slider:\n",
    "        id: red\n",
    "        min: 0\n",
    "        max: 1\n",
    "        step: 0.01\n",
    "    Label:\n",
    "        text: \"Verde\"\n",
    "    Slider:\n",
    "        id: green\n",
    "        min: 0\n",
    "        max: 1\n",
    "        step: 0.01\n",
    "    Label:\n",
    "        text: \"Azul\"\n",
    "    Slider:\n",
    "        id: blue\n",
    "        min: 0\n",
    "        max: 1\n",
    "        step: 0.01\n",
    "    Label:\n",
    "        canvas:\n",
    "            Color:\n",
    "                rgba: red.value, green.value, blue.value, 1\n",
    "            Rectangle:\n",
    "                size: self.size\n",
    "                pos: self.pos\n",
    "    Label:\n",
    "        text: '%.2x%.2x%.2x' % (int(red.value*100), int(green.value*100), int(blue.value*100))\n",
    "''')\n",
    "\n",
    "def aleatorio():\n",
    "    rand = random.randrange(1, 100)\n",
    "    return rand * 0.01\n",
    "\n",
    "class AlucinApp(App):\n",
    "    def build(self):\n",
    "        random.seed(time.time())\n",
    "        return MyLaoyout()\n",
    "        \n",
    "AlucinApp().run()"
   ]
  },
  {
   "cell_type": "code",
   "execution_count": 65,
   "metadata": {
    "collapsed": false
   },
   "outputs": [
    {
     "name": "stdout",
     "output_type": "stream",
     "text": [
      "[INFO              ] [Logger      ] Record log in /Users/nahuel/.kivy/logs/kivy_16-11-27_49.txt\n",
      "[INFO              ] [Kivy        ] v1.9.1\n",
      "[INFO              ] [Python      ] v2.7.12 (default, Oct 11 2016, 05:20:59) \n",
      "[GCC 4.2.1 Compatible Apple LLVM 8.0.0 (clang-800.0.38)]\n",
      "[INFO              ] [Factory     ] 179 symbols loaded\n",
      "[INFO              ] [Image       ] Providers: img_tex, img_imageio, img_dds, img_gif, img_sdl2, img_pil (img_ffpyplayer ignored)\n",
      "[INFO              ] [Text        ] Provider: sdl2\n",
      "[INFO              ] [OSC         ] using <multiprocessing> for socket\n",
      "[INFO              ] [Window      ] Provider: sdl2\n",
      "[INFO              ] [GL          ] OpenGL version <2.1 INTEL-10.20.23>\n",
      "[INFO              ] [GL          ] OpenGL vendor <Intel Inc.>\n",
      "[INFO              ] [GL          ] OpenGL renderer <Intel Iris OpenGL Engine>\n",
      "[INFO              ] [GL          ] OpenGL parsed version: 2, 1\n",
      "[INFO              ] [GL          ] Shading version <1.20>\n",
      "[INFO              ] [GL          ] Texture max size <16384>\n",
      "[INFO              ] [GL          ] Texture max units <16>\n",
      "[INFO              ] [Window      ] auto add sdl2 input provider\n",
      "[INFO              ] [Window      ] virtual keyboard not allowed, single mode, not docked\n",
      "[INFO              ] [Base        ] Start application main loop\n",
      "[INFO              ] [GL          ] NPOT texture support is available\n",
      "[INFO              ] [Base        ] Leaving application in progress...\n",
      "\n"
     ]
    }
   ],
   "source": [
    "print(stderr)"
   ]
  },
  {
   "cell_type": "markdown",
   "metadata": {},
   "source": [
    "# Administración de Ventanas"
   ]
  },
  {
   "cell_type": "code",
   "execution_count": 85,
   "metadata": {
    "collapsed": false
   },
   "outputs": [],
   "source": [
    "%%script python2 --err stderr\n",
    "# encoding: utf-8\n",
    "from kivy.app import App\n",
    "from kivy.lang import Builder\n",
    "from kivy.uix.floatlayout import FloatLayout\n",
    "\n",
    "Builder.load_string(\"\"\"\n",
    "<Phone>:\n",
    "    AnchorLayout:\n",
    "        anchor_x: 'center'\n",
    "        anchor_y: 'top'\n",
    "        ScreenManager:\n",
    "            size_hint: 1, .9\n",
    "            id: _screen_manager\n",
    "            Screen:\n",
    "                name: 'screen1'\n",
    "                Label: \n",
    "                    markup: True\n",
    "                    text: '[size=24]Welcome to [color=dd88ff]THE APP[/color][/size]'\n",
    "            Screen:\n",
    "                name: 'screen2'\n",
    "                GridLayout: \n",
    "                    cols: 3\n",
    "                    padding: 50\n",
    "                    Button:\n",
    "                        text: \"1\"\n",
    "                    Button:\n",
    "                        text: \"2\"\n",
    "                    Button:\n",
    "                        text: \"3\"\n",
    "                    Button:\n",
    "                        text: \"4\"\n",
    "                    Button:\n",
    "                        text: \"5\"\n",
    "                    Button:\n",
    "                        text: \"6\"\n",
    "                    Button:\n",
    "                        text: \"7\"\n",
    "                    Button:\n",
    "                        text: \"8\"\n",
    "                    Button:\n",
    "                        text: \"9\"\n",
    "                    Button:\n",
    "                        text: \"*\"\n",
    "                    Button:\n",
    "                        text: \"0\"\n",
    "                    Button:\n",
    "                        text: \"#\"\n",
    "    AnchorLayout:\n",
    "        anchor_x: 'center'\n",
    "        anchor_y: 'bottom'\n",
    "        BoxLayout:\n",
    "            orientation: 'horizontal'\n",
    "            size_hint: 1, .1\n",
    "            Button:\n",
    "                text: 'Go to Screen 1'\n",
    "                on_press: _screen_manager.current = 'screen1'\n",
    "            Button:\n",
    "                text: 'Go to Screen 2'\n",
    "                on_press: _screen_manager.current = 'screen2'\"\"\")\n",
    "\n",
    "class Phone(FloatLayout):\n",
    "    pass\n",
    "\n",
    "class TestApp(App):\n",
    "    def build(self):\n",
    "        return Phone()\n",
    "\n",
    "if __name__ == '__main__':\n",
    "    TestApp().run()"
   ]
  },
  {
   "cell_type": "markdown",
   "metadata": {},
   "source": [
    "# Desde Python"
   ]
  },
  {
   "cell_type": "code",
   "execution_count": 101,
   "metadata": {
    "collapsed": false
   },
   "outputs": [
    {
     "name": "stdout",
     "output_type": "stream",
     "text": [
      "<kivy.uix.screenmanager.ScreenManager object at 0x108d27600>\n",
      "<kivy.uix.screenmanager.ScreenManager object at 0x108d27600>\n",
      "<kivy.uix.screenmanager.ScreenManager object at 0x108d27600>\n",
      "<kivy.uix.screenmanager.ScreenManager object at 0x108d27600>\n",
      "<kivy.uix.screenmanager.ScreenManager object at 0x108d27600>\n",
      "<kivy.uix.screenmanager.ScreenManager object at 0x108d27600>\n"
     ]
    },
    {
     "name": "stderr",
     "output_type": "stream",
     "text": [
      "[INFO              ] [Logger      ] Record log in /Users/nahuel/.kivy/logs/kivy_16-11-27_98.txt\n",
      "[INFO              ] [Kivy        ] v1.9.1\n",
      "[INFO              ] [Python      ] v2.7.12 (default, Oct 11 2016, 05:20:59) \n",
      "[GCC 4.2.1 Compatible Apple LLVM 8.0.0 (clang-800.0.38)]\n",
      "[INFO              ] [Factory     ] 179 symbols loaded\n",
      "[INFO              ] [Image       ] Providers: img_tex, img_imageio, img_dds, img_gif, img_sdl2, img_pil (img_ffpyplayer ignored)\n",
      "[INFO              ] [Text        ] Provider: sdl2\n",
      "[INFO              ] [OSC         ] using <multiprocessing> for socket\n",
      "[INFO              ] [Window      ] Provider: sdl2\n",
      "[INFO              ] [GL          ] OpenGL version <2.1 INTEL-10.20.23>\n",
      "[INFO              ] [GL          ] OpenGL vendor <Intel Inc.>\n",
      "[INFO              ] [GL          ] OpenGL renderer <Intel Iris OpenGL Engine>\n",
      "[INFO              ] [GL          ] OpenGL parsed version: 2, 1\n",
      "[INFO              ] [GL          ] Shading version <1.20>\n",
      "[INFO              ] [GL          ] Texture max size <16384>\n",
      "[INFO              ] [GL          ] Texture max units <16>\n",
      "[INFO              ] [Window      ] auto add sdl2 input provider\n",
      "[INFO              ] [Window      ] virtual keyboard not allowed, single mode, not docked\n",
      "[INFO              ] [Base        ] Start application main loop\n",
      "[INFO              ] [GL          ] NPOT texture support is available\n",
      "[INFO              ] [Base        ] Leaving application in progress...\n"
     ]
    }
   ],
   "source": [
    "%%python\n",
    "from kivy.uix.screenmanager import ScreenManager, Screen\n",
    "from kivy.app import App\n",
    "from kivy.uix.button import Button\n",
    "\n",
    "\n",
    "class MyApp(App):\n",
    "    def cambiar_pantalla(self, ui):\n",
    "        print self.root\n",
    "        current_label = int(self.root.current)\n",
    "        next_label = 0 if current_label < 4 else current_label +1\n",
    "        self.root.current = str(next_label)\n",
    "    def build(self):\n",
    "        # Create the manager\n",
    "        sm = ScreenManager()\n",
    "\n",
    "        # Add few screens\n",
    "        for i in range(4):\n",
    "            screen = Screen(name='%d' % i)\n",
    "            screen.add_widget(Button(text=\"Screen %d\" % i, \n",
    "                              on_press=self.cambiar_pantalla))\n",
    "            sm.add_widget(screen)\n",
    "\n",
    "        # By default, the first screen added into the ScreenManager will be\n",
    "        # displayed. You can then change to another screen.\n",
    "\n",
    "        # Let's display the screen named 'Title 2'\n",
    "        # A transition will automatically be used.\n",
    "        sm.current = '1'\n",
    "        return sm\n",
    "MyApp().run()"
   ]
  },
  {
   "cell_type": "code",
   "execution_count": 114,
   "metadata": {
    "collapsed": false
   },
   "outputs": [
    {
     "name": "stdout",
     "output_type": "stream",
     "text": [
      "[master 70f9890] Update Sun Nov 20 18:41:50 ART 2016\n",
      " 2 files changed, 38 insertions(+), 135 deletions(-)\n",
      "Counting objects: 4, done.\n",
      "Delta compression using up to 4 threads.\n",
      "Compressing objects: 100% (4/4), done.\n",
      "Writing objects: 100% (4/4), 807 bytes | 0 bytes/s, done.\n",
      "Total 4 (delta 3), reused 0 (delta 0)\n",
      "remote: Resolving deltas: 100% (3/3), completed with 3 local objects.\u001b[K\n",
      "To github.com:D3f0/kivyworkshop.git\n",
      "   3e04854..70f9890  master -> master\n"
     ]
    }
   ],
   "source": [
    "!git add -u; git commit -m \"Update `date`\"; git push"
   ]
  },
  {
   "cell_type": "code",
   "execution_count": 95,
   "metadata": {
    "collapsed": false
   },
   "outputs": [
    {
     "name": "stdout",
     "output_type": "stream",
     "text": [
      "{\n",
      "  \"stdin_port\": 51040, \n",
      "  \"ip\": \"127.0.0.1\", \n",
      "  \"control_port\": 51041, \n",
      "  \"hb_port\": 51042, \n",
      "  \"signature_scheme\": \"hmac-sha256\", \n",
      "  \"key\": \"ef1614ee-ebc0-4b52-85fe-fd70b158e8d2\", \n",
      "  \"kernel_name\": \"\", \n",
      "  \"shell_port\": 51038, \n",
      "  \"transport\": \"tcp\", \n",
      "  \"iopub_port\": 51039\n",
      "}\n",
      "\n",
      "Paste the above JSON into a file, and connect with:\n",
      "    $> jupyter <app> --existing <file>\n",
      "or, if you are local, you can connect with just:\n",
      "    $> jupyter <app> --existing kernel-d4053538-a581-45af-82d8-852036f8da73.json\n",
      "or even just:\n",
      "    $> jupyter <app> --existing\n",
      "if this is the most recent Jupyter kernel you have started.\n"
     ]
    }
   ],
   "source": [
    "%connect_info"
   ]
  },
  {
   "cell_type": "code",
   "execution_count": 96,
   "metadata": {
    "collapsed": true
   },
   "outputs": [],
   "source": [
    "%qtconsole"
   ]
  },
  {
   "cell_type": "code",
   "execution_count": null,
   "metadata": {
    "collapsed": true
   },
   "outputs": [],
   "source": []
  }
 ],
 "metadata": {
  "kernelspec": {
   "display_name": "Python 2",
   "language": "python",
   "name": "python2"
  },
  "language_info": {
   "codemirror_mode": {
    "name": "ipython",
    "version": 2
   },
   "file_extension": ".py",
   "mimetype": "text/x-python",
   "name": "python",
   "nbconvert_exporter": "python",
   "pygments_lexer": "ipython2",
   "version": "2.7.12"
  }
 },
 "nbformat": 4,
 "nbformat_minor": 1
}
