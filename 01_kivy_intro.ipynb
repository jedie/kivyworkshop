{
 "cells": [
  {
   "cell_type": "markdown",
   "metadata": {},
   "source": [
    "# Kivy Workshop / Taller de Kivy\n",
    "### Objetivo: Construir nuestra primera aplicación para Android con Kivy"
   ]
  },
  {
   "cell_type": "markdown",
   "metadata": {},
   "source": [
    "# Antes de emepzar\n",
    "\n",
    "* Este material está hecho sobre Jupyter Notebook, se puede [descargar de Github](bit.ly/tallerkivy).\n",
    "* La mayoría de los ejemplos de este notebook están preparados como script ejecutables, de manera que al ejecutar "
   ]
  },
  {
   "cell_type": "code",
   "execution_count": null,
   "metadata": {
    "collapsed": false
   },
   "outputs": [],
   "source": [
    "!qr \"http://bit.ly/tallerkivy\" > images/qr.png\n",
    "from IPython.display import Image\n",
    "Image('images/qr.png')"
   ]
  },
  {
   "cell_type": "markdown",
   "metadata": {},
   "source": [
    "# Kivy \n",
    "\n",
    "Kivy es una biblioteca Open source para desarrollo rápido de aplicaciones que hacen uso de interfases de usuarios inovadoras (NUI) como aplicaiones multi touch.\n",
    "<img src=\"./images/gs-introduction.png\">"
   ]
  },
  {
   "cell_type": "markdown",
   "metadata": {},
   "source": [
    "# Características\n",
    "* Acelerado por GPU\n",
    "* Lenguaje de definición de interfaces sencillo"
   ]
  },
  {
   "cell_type": "markdown",
   "metadata": {},
   "source": [
    "# Arquitectura\n",
    "![Arquitectura de Kivy](images/architecture.png)"
   ]
  },
  {
   "cell_type": "markdown",
   "metadata": {},
   "source": [
    "# Antes de llegar a Android\n",
    "### Repasemos algunas caracerísticas de Kivy\n",
    "\n",
    "* Aplicación\n",
    "* Propiedades\n",
    "* Lenguaje de Kivy (Kv)"
   ]
  },
  {
   "cell_type": "markdown",
   "metadata": {},
   "source": [
    "# Primera aplicación Kivy\n",
    "#### Sin android todavía"
   ]
  },
  {
   "cell_type": "code",
   "execution_count": null,
   "metadata": {
    "collapsed": false
   },
   "outputs": [],
   "source": [
    "%%python\n",
    "# encoding: utf-8\n",
    "from __future__ import print_function\n",
    "from kivy.app import App\n",
    "from kivy.uix.button import Button\n",
    "\n",
    "class MyApp(App):\n",
    "    def saludar(self, ui):\n",
    "        print(u\"Clickeado\")\n",
    "    def build(self):\n",
    "        btn = Button(\n",
    "            text=\"Con F1 verás algo más\\n\"\n",
    "            \"con Esc salis\", \n",
    "            on_press=self.saludar,\n",
    "        )\n",
    "        return btn\n",
    "if __name__ == \"__main__\":\n",
    "    MyApp().run()"
   ]
  },
  {
   "cell_type": "markdown",
   "metadata": {},
   "source": [
    "# Agregando Layouts"
   ]
  },
  {
   "cell_type": "code",
   "execution_count": null,
   "metadata": {
    "collapsed": false
   },
   "outputs": [],
   "source": [
    "%%script python2 --err stderr\n",
    "# encoding: utf-8\n",
    "from __future__ import print_function\n",
    "from kivy.app import App\n",
    "from kivy.uix.boxlayout import BoxLayout\n",
    "from kivy.uix.button import Button\n",
    "from kivy.uix.label import Label\n",
    "\n",
    "class MyWidget(BoxLayout):\n",
    "    def __init__(self):\n",
    "        super(MyWidget, self).__init__()\n",
    "        callback = App.get_running_app().saludar\n",
    "        btn = Button(text=u\"alegría a tu\", \n",
    "                     on_press=callback\n",
    "                    )\n",
    "        self.add_widget(Label(text=\"Dale\"))\n",
    "        self.add_widget(btn)\n",
    "        self.add_widget(Label(text=\"cuerpo\"))\n",
    "        \n",
    "class MyApp(App):\n",
    "    def saludar(self, ui):\n",
    "        print(\"Macarena\")\n",
    "    def build(self):\n",
    "        return MyWidget()\n",
    "if __name__ == \"__main__\":\n",
    "    MyApp().run()"
   ]
  },
  {
   "cell_type": "code",
   "execution_count": null,
   "metadata": {
    "collapsed": false
   },
   "outputs": [],
   "source": [
    "stderr"
   ]
  },
  {
   "cell_type": "markdown",
   "metadata": {},
   "source": [
    "# Utilizando las propiedades"
   ]
  },
  {
   "cell_type": "code",
   "execution_count": null,
   "metadata": {
    "collapsed": false
   },
   "outputs": [],
   "source": [
    "%%script python2 --err stderr\n",
    "from __future__ import print_function\n",
    "from kivy.app import App\n",
    "from kivy.uix.boxlayout import BoxLayout\n",
    "from kivy.uix.button import Button\n",
    "\n",
    "class MyWidget(BoxLayout):\n",
    "    def __init__(self):\n",
    "        super(MyWidget, self).__init__()\n",
    "        callback = App.get_running_app().saludar\n",
    "        btn1 = Button(text=self.orientation, \n",
    "                     on_press=callback\n",
    "                    )\n",
    "        self.add_widget(btn1)\n",
    "        btn2 = Button(text=\"Cambiar propiedad orientation\", on_press=self.change_layout)\n",
    "        self.add_widget(btn2)\n",
    "    def change_layout(self, ui):\n",
    "        if self.orientation == 'horizontal':\n",
    "            self.orientation = 'vertical'\n",
    "        else:\n",
    "            self.orientation = 'horizontal'\n",
    "\n",
    "class MyApp(App):\n",
    "    def saludar(self, ui):\n",
    "        print(\"Hola Kivy\")\n",
    "    def build(self):\n",
    "        return MyWidget()\n",
    "if __name__ == \"__main__\":\n",
    "    MyApp().run()"
   ]
  },
  {
   "cell_type": "markdown",
   "metadata": {},
   "source": [
    "# Propiadades en Kivy"
   ]
  },
  {
   "cell_type": "markdown",
   "metadata": {},
   "source": [
    "Las propiedades son el mecanismo de hacer **programación reactiva** o implementar el patrón `Observer` en Kivy.\n",
    "\n",
    "Lo que en Python haríamos de la siguiente forma:\n",
    "```python\n",
    "class MyClass(object):\n",
    "    def __init__(self):\n",
    "        super(MyClass, self).__init__()\n",
    "        self.numeric_var = 1\n",
    "```\n",
    "en Kivy, se implementaría de esta manera:\n",
    "```python\n",
    "class MyClass(EventDispatcher):\n",
    "    numeric_var = NumericProperty(1)\n",
    "```\n",
    "\n",
    "Las propiedades que implementa Kivy son:\n",
    "\n",
    "* [NumericProperty](https://kivy.org/docs/api-kivy.properties.html#kivy.properties.NumericProperty)\n",
    "* [StringProperty](https://kivy.org/docs/api-kivy.properties.html#kivy.properties.StringProperty) \n",
    "* [ListProperty](https://kivy.org/docs/api-kivy.properties.html#kivy.properties.ListProperty)\n",
    "* [ObjectProperty](https://kivy.org/docs/api-kivy.properties.html#kivy.properties.ObjectProperty)\n",
    "* [BooleanProperty](https://kivy.org/docs/api-kivy.properties.html#kivy.properties.BooleanProperty)\n",
    "* [BoundedNumericProperty](https://kivy.org/docs/api-kivy.properties.html#kivy.properties.BoundedNumericProperty)\n",
    "* [OptionProperty](https://kivy.org/docs/api-kivy.properties.html#kivy.properties.OptionProperty)\n",
    "* [ReferenceListProperty](https://kivy.org/docs/api-kivy.properties.html#kivy.properties.ReferenceListProperty)\n",
    "* [AliasProperty](https://kivy.org/docs/api-kivy.properties.html#kivy.properties.AliasProperty)\n",
    "* [DictProperty](https://kivy.org/docs/api-kivy.properties.html#kivy.properties.DictProperty)"
   ]
  },
  {
   "cell_type": "markdown",
   "metadata": {},
   "source": [
    "# El lenguaje de Diesño `Kv`\n",
    "\n",
    "Kivy proveé un lenguaje de diseño preparado para hacer GUIs de manera **simple** y **escalable**. \n",
    "\n",
    "Simplifica la separación de la interfase de la implementación de la lógica, adhiriendose al principio de separación de responsabilidades.\n",
    "\n",
    "![](images/gs-lang.png)\n",
    "\n",
    "\n",
    "## Utilización del lenguaje \n",
    "\n",
    "Exiten varias formas de vincular un archivo `kv` a una aplicación o widget:\n",
    "\n",
    "* Utilizando el mismo nombre que la aplicación **`my.kv -> MyApp`**\n",
    "\n",
    "* Utilizando la clase **Builder**\n",
    "    + `Builder.load_file('ruta/a/archivo.kv')`\n",
    "    + `Builder.load_string(cadena)`\n",
    "\n",
    "## Reglas\n",
    "Existen dos tipos de reglas, las de elemento raíz **root** y las de **clase**: \n",
    "### root\n",
    "```yaml\n",
    "clase_root:\n",
    "```\n",
    "### clases\n",
    "```yaml\n",
    "<Clase>:\n",
    "```\n",
    "\n",
    "### Variables Globales provistas por Kivy\n",
    "\n",
    "* **`app`** referencia a la aplicación\n",
    "* **`root`** referencia al widget raíz\n",
    "* **`self`** referencia al widget actual\n",
    "\n",
    "## Gerarquía\n",
    "\n",
    "```yaml\n",
    "\n",
    "MyRootWidget:\n",
    "    BoxLayout:\n",
    "        Button:\n",
    "        Button:\n",
    "```\n",
    "es equivalente a:\n",
    "\n",
    "```python\n",
    "root = MyRootWidget()\n",
    "box = BoxLayout()\n",
    "box.add_widget(Button())\n",
    "box.add_widget(Button())\n",
    "root.add_widget(box)\n",
    "```\n",
    "\n",
    "## Argumentos\n",
    "La expresión `grid = GridLayout(cols=3)` se puede definir en kv de la siguiente manera:\n",
    "\n",
    "```yaml\n",
    "GridLayout:\n",
    "    cols: 3\n",
    "```"
   ]
  },
  {
   "cell_type": "code",
   "execution_count": null,
   "metadata": {
    "collapsed": true
   },
   "outputs": [],
   "source": [
    "%%script python2 --err stderr\n",
    "from kivy.app import App\n",
    "from kivy.lang import Builder\n",
    "from kivy.uix.gridlayout import GridLayout\n",
    "\n",
    "class MyGrid(GridLayout):\n",
    "    pass\n",
    "\n",
    "Builder.load_string('''\n",
    "<MyGrid>:\n",
    "    size: root.size\n",
    "    pos: root.pos\n",
    "    cols: 2\n",
    "    Label:\n",
    "        text: \":)\"\n",
    "    Button:\n",
    "        text: \"Layout\"\n",
    "    Button:\n",
    "        text: \"en\"\n",
    "    Button:\n",
    "        text: \"kv\"\n",
    "''')\n",
    "\n",
    "class MyApp(App):\n",
    "    def build(self):\n",
    "        return MyGrid()\n",
    "\n",
    "MyApp().run()\n"
   ]
  },
  {
   "cell_type": "markdown",
   "metadata": {},
   "source": [
    "### Argumentos Observables\n",
    "\n",
    "La expresión: \n",
    "\n",
    "```python\n",
    "grid = GridLayout(cols=len(self.data))\n",
    "self.bind(data=grid.setter('cols'))\n",
    "```\n",
    "\n",
    "puede escribirse en kv de la siguiente manera:\n",
    "\n",
    "```yaml\n",
    "GridLayout:\n",
    "    cols: len(root.data)\n",
    "```\n",
    "\n",
    "## Referencias\n",
    "\n",
    "Se pueden definir atributos ID para los widgets, estos son útiles para hacer referencias tanto en Python como en el lenguaje Kv.\n",
    "\n",
    "El siguiente ejemplo combina atributos observables y referencias por `id`.\n"
   ]
  },
  {
   "cell_type": "code",
   "execution_count": null,
   "metadata": {
    "collapsed": true
   },
   "outputs": [],
   "source": [
    "%%script python2 --err stderr\n",
    "from kivy.app import App\n",
    "from kivy.lang import Builder\n",
    "from kivy.uix.boxlayout import BoxLayout\n",
    "\n",
    "class MyLaoyout(BoxLayout):\n",
    "    pass\n",
    "\n",
    "Builder.load_string('''\n",
    "<MyLaoyout>:\n",
    "    size: root.size\n",
    "    pos: root.pos\n",
    "    Slider:\n",
    "        min: 0\n",
    "        max: 10\n",
    "        id: my_slider\n",
    "    Label:\n",
    "        text: '%s' % my_slider.value\n",
    "''')\n",
    "\n",
    "class MyApp(App):\n",
    "    def build(self):\n",
    "        return MyLaoyout()\n",
    "\n",
    "MyApp().run()\n"
   ]
  },
  {
   "cell_type": "markdown",
   "metadata": {},
   "source": [
    "## Manejo de eventos\n",
    "\n",
    "Podemos definir de la siguiente manera un *handler* ante un evento de click:\n",
    "```yaml\n",
    "Button:\n",
    "    text: \"Hola\"\n",
    "    on_press: app.metodo()\n",
    "```"
   ]
  },
  {
   "cell_type": "code",
   "execution_count": null,
   "metadata": {
    "collapsed": true
   },
   "outputs": [],
   "source": [
    "%%script python2 --err stderr\n",
    "# encoding: utf-8\n",
    "from kivy.app import App\n",
    "from kivy.lang import Builder\n",
    "from kivy.uix.boxlayout import BoxLayout\n",
    "from kivy.uix.popup import Popup\n",
    "from kivy.uix.label import Label\n",
    "\n",
    "class MyLaoyout(BoxLayout):\n",
    "    def saludar(self, ui):\n",
    "        pass\n",
    "\n",
    "Builder.load_string(u'''\n",
    "<MyLaoyout>:\n",
    "    size: root.size\n",
    "    pos: root.pos\n",
    "    Slider:\n",
    "        min: 0\n",
    "        max: 10\n",
    "        id: my_slider\n",
    "    Button:\n",
    "        text: 'El slider está %s' % my_slider.value\n",
    "        on_press: root.saludar()\n",
    "''')\n",
    "\n",
    "class MyApp(App):\n",
    "    def build(self):\n",
    "        return MyLaoyout()\n",
    "    \n",
    "    def saludar(self):\n",
    "        popup = Popup(title='Test popup',\n",
    "            content=Label(text='Hello world'),\n",
    "            size_hint=(None, None), size=(400, 400))\n",
    "        popup.open()\n",
    "\n",
    "MyApp().run()"
   ]
  },
  {
   "cell_type": "code",
   "execution_count": null,
   "metadata": {
    "collapsed": false
   },
   "outputs": [],
   "source": [
    "print stderr"
   ]
  },
  {
   "cell_type": "code",
   "execution_count": null,
   "metadata": {
    "collapsed": true
   },
   "outputs": [],
   "source": []
  }
 ],
 "metadata": {
  "kernelspec": {
   "display_name": "Python 2",
   "language": "python",
   "name": "python2"
  },
  "language_info": {
   "codemirror_mode": {
    "name": "ipython",
    "version": 2
   },
   "file_extension": ".py",
   "mimetype": "text/x-python",
   "name": "python",
   "nbconvert_exporter": "python",
   "pygments_lexer": "ipython2",
   "version": "2.7.12"
  }
 },
 "nbformat": 4,
 "nbformat_minor": 1
}
