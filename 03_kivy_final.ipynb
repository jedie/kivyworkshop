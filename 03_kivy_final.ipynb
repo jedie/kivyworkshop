{
 "cells": [
  {
   "cell_type": "markdown",
   "metadata": {},
   "source": [
    "# Garden\n",
    "\n",
    "Garden es un [proyecto de emapqutamiento](https://kivy.org/docs/api-kivy.garden.html) de Widgets para Kivy. \n",
    "![](images/garden.png)"
   ]
  },
  {
   "cell_type": "markdown",
   "metadata": {},
   "source": [
    "# Instalación\n",
    "````bash\n",
    "pip install kivy-garden\n",
    "```"
   ]
  },
  {
   "cell_type": "markdown",
   "metadata": {},
   "source": [
    "# Uso\n",
    "\n",
    "```bash\n",
    "garden install mapview\n",
    "```"
   ]
  },
  {
   "cell_type": "markdown",
   "metadata": {},
   "source": [
    "# Ejercicio\n",
    "\n",
    "Instalar con garden el widget de mapas y probar el siguiente código:\n",
    "\n",
    "```python\n",
    "from kivy.garden.mapview import MapView\n",
    "from kivy.app import App\n",
    "\n",
    "class MapViewApp(App):\n",
    "    def build(self):\n",
    "        mapview = MapView(zoom=15, lat=-42.7852576, lon=-65.0083537)\n",
    "        return mapview\n",
    "\n",
    "MapViewApp().run()\n",
    "```\n",
    "\n",
    "# Ejercicio\n",
    "\n",
    "Compilar con Buildozer agregando a garden"
   ]
  },
  {
   "cell_type": "markdown",
   "metadata": {},
   "source": [
    "## MQTT\n",
    "\n",
    "MQTT es un protocolo para hacer publicación subscripción. La API para Python es la siguiente:\n",
    "\n",
    "```python\n",
    "import paho.mqtt.client as mqtt\n",
    "\n",
    "# The callback for when the client receives a CONNACK response from the server.\n",
    "def on_connect(client, userdata, flags, rc):\n",
    "    print(\"Connected with result code \"+str(rc))\n",
    "\n",
    "    # Subscribing in on_connect() means that if we lose the connection and\n",
    "    # reconnect then subscriptions will be renewed.\n",
    "    client.subscribe(\"kivy\")\n",
    "\n",
    "# The callback for when a PUBLISH message is received from the server.\n",
    "def on_message(client, userdata, msg):\n",
    "    print(msg.topic+\" \"+str(msg.payload))\n",
    "\n",
    "client = mqtt.Client()\n",
    "client.on_connect = on_connect\n",
    "client.on_message = on_message\n",
    "\n",
    "client.connect(\"iot.eclipse.org\", 1883, 60)\n",
    "\n",
    "# Blocking call that processes network traffic, dispatches callbacks and\n",
    "# handles reconnecting.\n",
    "# Other loop*() functions are available that give a threaded interface and a\n",
    "# manual interface.\n",
    "client.loop_forever()\n",
    "```"
   ]
  },
  {
   "cell_type": "markdown",
   "metadata": {
    "collapsed": true
   },
   "source": [
    "# Ejercicio\n",
    "\n",
    "Buscar un widget de Garden para mostrar relojes (o gagues). Conectarlo con una subscripción de Paho. Integrar los loops con Timers o Threads. Generar el APK.\n",
    "\n",
    "\n",
    "Se puede utilizar el broker de ejemplo "
   ]
  },
  {
   "cell_type": "code",
   "execution_count": null,
   "metadata": {
    "collapsed": true
   },
   "outputs": [],
   "source": []
  }
 ],
 "metadata": {
  "kernelspec": {
   "display_name": "Python 2",
   "language": "python",
   "name": "python2"
  },
  "language_info": {
   "codemirror_mode": {
    "name": "ipython",
    "version": 2
   },
   "file_extension": ".py",
   "mimetype": "text/x-python",
   "name": "python",
   "nbconvert_exporter": "python",
   "pygments_lexer": "ipython2",
   "version": "2.7.12"
  }
 },
 "nbformat": 4,
 "nbformat_minor": 1
}
